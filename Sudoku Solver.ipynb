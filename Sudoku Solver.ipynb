{
 "cells": [
  {
   "cell_type": "code",
   "execution_count": 35,
   "metadata": {},
   "outputs": [],
   "source": [
    "import numpy as np\n",
    "import pandas as pd\n",
    "\n",
    "grid = []\n",
    "path = '/home/shreyas_204/Downloads/sudoku.csv'\n",
    "\n",
    "\n",
    "data = pd.read_csv(path, header = None)\n",
    "for i in range(9):\n",
    "    row = []\n",
    "    for j in range(9):\n",
    "        row.append(data[j][i])\n",
    "    grid.append(row)\n",
    "\n",
    "def checkRow(grid, x, row):\n",
    "    return x not in grid[row]\n",
    "\n",
    "def checkColumn(grid, x, column):\n",
    "    for k in range(9):\n",
    "        if x == grid[k][column]:\n",
    "            return False\n",
    "    return True\n",
    "\n",
    "\n",
    "def checkGrid(grid, x, r, c):\n",
    "    startrow = int(r / 3) * 3\n",
    "    startcolumn = int(c / 3) * 3\n",
    "    for i in range(startrow, startrow + 3):\n",
    "        for j in range(startcolumn, startcolumn + 3):\n",
    "            if x == grid[i][j]:\n",
    "                return False\n",
    "    return True\n",
    "\n",
    "def sudoku():\n",
    "    for i in range(9):\n",
    "        for j in range(9):\n",
    "            if grid[i][j] == 0:\n",
    "                for x in range(1, 10):\n",
    "                    a = checkRow(grid, x, i)\n",
    "                    b = checkColumn(grid, x, j)\n",
    "                    c = checkGrid(grid, x, i, j)\n",
    "                    if a and b and c:\n",
    "                        grid[i][j] = x\n",
    "                        sudoku()\n",
    "                        grid[i][j] = 0\n",
    "                return\n",
    "    print(np.matrix(grid))"
   ]
  },
  {
   "cell_type": "code",
   "execution_count": 36,
   "metadata": {},
   "outputs": [
    {
     "name": "stdout",
     "output_type": "stream",
     "text": [
      "[[7 4 8 6 9 3 1 2 5]\n",
      " [6 3 1 5 8 2 9 4 7]\n",
      " [5 2 9 4 7 1 3 6 8]\n",
      " [1 9 5 2 3 4 8 7 6]\n",
      " [8 6 2 1 5 7 4 9 3]\n",
      " [4 7 3 8 6 9 5 1 2]\n",
      " [3 1 7 9 2 5 6 8 4]\n",
      " [2 8 4 3 1 6 7 5 9]\n",
      " [9 5 6 7 4 8 2 3 1]]\n"
     ]
    }
   ],
   "source": [
    "sudoku()"
   ]
  },
  {
   "cell_type": "code",
   "execution_count": null,
   "metadata": {},
   "outputs": [],
   "source": []
  }
 ],
 "metadata": {
  "kernelspec": {
   "display_name": "TensorFlow-GPU",
   "language": "python",
   "name": "tf-gpu"
  },
  "language_info": {
   "codemirror_mode": {
    "name": "ipython",
    "version": 3
   },
   "file_extension": ".py",
   "mimetype": "text/x-python",
   "name": "python",
   "nbconvert_exporter": "python",
   "pygments_lexer": "ipython3",
   "version": "3.7.6"
  }
 },
 "nbformat": 4,
 "nbformat_minor": 4
}
